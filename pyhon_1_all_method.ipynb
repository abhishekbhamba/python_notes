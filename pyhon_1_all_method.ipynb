{
 "cells": [
  {
   "cell_type": "code",
   "execution_count": 13,
   "id": "dace9233",
   "metadata": {},
   "outputs": [],
   "source": [
    "import numpy as np"
   ]
  },
  {
   "cell_type": "markdown",
   "id": "031f3abe",
   "metadata": {},
   "source": [
    "# print with spacing"
   ]
  },
  {
   "cell_type": "code",
   "execution_count": 14,
   "id": "8ffd1dd6",
   "metadata": {},
   "outputs": [
    {
     "name": "stdout",
     "output_type": "stream",
     "text": [
      "superman is a famous comic \n",
      "maggie is favorite for all\n"
     ]
    }
   ],
   "source": [
    "print(\"superman is a famous comic\",\"\\n\" \"maggie is favorite for all\")"
   ]
  },
  {
   "cell_type": "code",
   "execution_count": 15,
   "id": "e7897f59",
   "metadata": {},
   "outputs": [
    {
     "name": "stdout",
     "output_type": "stream",
     "text": [
      "[5, 6, 2, 7, 5, 9, 2, 9, 2, 4, 3, 2, 1, 3, 10, 8, 4, 4, 5, 9]\n"
     ]
    }
   ],
   "source": [
    "import random\n",
    "l = [random.randint(1,10) for i in range(20)]\n",
    "print(l)"
   ]
  },
  {
   "cell_type": "markdown",
   "id": "93ceacd6",
   "metadata": {},
   "source": [
    "# random"
   ]
  },
  {
   "cell_type": "code",
   "execution_count": 16,
   "id": "14429733",
   "metadata": {},
   "outputs": [
    {
     "name": "stdout",
     "output_type": "stream",
     "text": [
      "[5, 12, 4, 18, 21, 28, 17, 7, 27, 28, 23, 19, 25, 10, 30, 20, 13, 2, 10, 8]\n"
     ]
    }
   ],
   "source": [
    "# find random no. 1 to 30 with 20 limit\n",
    "\n",
    "import random\n",
    "q = [random.randint(1,30) for i in range(20)]\n",
    "print(q)"
   ]
  },
  {
   "cell_type": "markdown",
   "id": "f230a829",
   "metadata": {},
   "source": [
    "# methods"
   ]
  },
  {
   "cell_type": "markdown",
   "id": "bf314d91",
   "metadata": {},
   "source": [
    "# sort"
   ]
  },
  {
   "cell_type": "code",
   "execution_count": 17,
   "id": "04a0f161",
   "metadata": {},
   "outputs": [],
   "source": [
    "l = [1,5,4,44,12]"
   ]
  },
  {
   "cell_type": "code",
   "execution_count": 18,
   "id": "06fa809f",
   "metadata": {},
   "outputs": [
    {
     "name": "stdout",
     "output_type": "stream",
     "text": [
      "[1, 4, 5, 12, 44]\n"
     ]
    }
   ],
   "source": [
    "l.sort()    # soting elements.\n",
    "print(l)"
   ]
  },
  {
   "cell_type": "markdown",
   "id": "f0ae7c74",
   "metadata": {},
   "source": [
    "# append"
   ]
  },
  {
   "cell_type": "code",
   "execution_count": 19,
   "id": "ff2e169f",
   "metadata": {},
   "outputs": [
    {
     "name": "stdout",
     "output_type": "stream",
     "text": [
      "[1, 4, 5, 12, 44, 55]\n"
     ]
    }
   ],
   "source": [
    "l.append(55)    # it will add in the end but one time.\n",
    "print(l)"
   ]
  },
  {
   "cell_type": "markdown",
   "id": "b689ab08",
   "metadata": {},
   "source": [
    "# insert"
   ]
  },
  {
   "cell_type": "code",
   "execution_count": 20,
   "id": "e4266e1e",
   "metadata": {},
   "outputs": [
    {
     "name": "stdout",
     "output_type": "stream",
     "text": [
      "[1, 4, 5, 12, 44, 55, 60]\n"
     ]
    }
   ],
   "source": [
    "# the insert method is used for the adding no. on the definite index.\n",
    "\n",
    "l.insert(9,60)\n",
    "\n",
    "print(l)"
   ]
  },
  {
   "cell_type": "markdown",
   "id": "fa78f6cf",
   "metadata": {},
   "source": [
    "# count"
   ]
  },
  {
   "cell_type": "code",
   "execution_count": 21,
   "id": "602cfc94",
   "metadata": {},
   "outputs": [
    {
     "data": {
      "text/plain": [
       "1"
      ]
     },
     "execution_count": 21,
     "metadata": {},
     "output_type": "execute_result"
    }
   ],
   "source": [
    "l.count(55)   # so, we do count of particular element."
   ]
  },
  {
   "cell_type": "markdown",
   "id": "c3e7f974",
   "metadata": {},
   "source": [
    "# copy"
   ]
  },
  {
   "cell_type": "code",
   "execution_count": 22,
   "id": "d4886161",
   "metadata": {},
   "outputs": [
    {
     "data": {
      "text/plain": [
       "[1, 4, 5, 12, 44, 55, 60]"
      ]
     },
     "execution_count": 22,
     "metadata": {},
     "output_type": "execute_result"
    }
   ],
   "source": [
    "a = l.copy()    # copy method is basically used to copy or store elements in another variable.\n",
    "a"
   ]
  },
  {
   "cell_type": "markdown",
   "id": "0219a93a",
   "metadata": {},
   "source": [
    "# remove"
   ]
  },
  {
   "cell_type": "code",
   "execution_count": 23,
   "id": "1cffed06",
   "metadata": {},
   "outputs": [
    {
     "data": {
      "text/plain": [
       "[1, 4, 5, 12, 44, 55, 60]"
      ]
     },
     "execution_count": 23,
     "metadata": {},
     "output_type": "execute_result"
    }
   ],
   "source": [
    "a"
   ]
  },
  {
   "cell_type": "code",
   "execution_count": 24,
   "id": "efa2bcb0",
   "metadata": {},
   "outputs": [
    {
     "ename": "ValueError",
     "evalue": "list.remove(x): x not in list",
     "output_type": "error",
     "traceback": [
      "\u001b[1;31m---------------------------------------------------------------------------\u001b[0m",
      "\u001b[1;31mValueError\u001b[0m                                Traceback (most recent call last)",
      "\u001b[1;32m<ipython-input-24-2687af51a80d>\u001b[0m in \u001b[0;36m<module>\u001b[1;34m\u001b[0m\n\u001b[1;32m----> 1\u001b[1;33m \u001b[0ma\u001b[0m\u001b[1;33m.\u001b[0m\u001b[0mremove\u001b[0m\u001b[1;33m(\u001b[0m\u001b[1;36m2\u001b[0m\u001b[1;33m)\u001b[0m     \u001b[1;31m# so, it will remove the element directly and it is not based on index.\u001b[0m\u001b[1;33m\u001b[0m\u001b[1;33m\u001b[0m\u001b[0m\n\u001b[0m\u001b[0;32m      2\u001b[0m \u001b[0mprint\u001b[0m\u001b[1;33m(\u001b[0m\u001b[0ma\u001b[0m\u001b[1;33m)\u001b[0m\u001b[1;33m\u001b[0m\u001b[1;33m\u001b[0m\u001b[0m\n",
      "\u001b[1;31mValueError\u001b[0m: list.remove(x): x not in list"
     ]
    }
   ],
   "source": [
    "a.remove(2)     # so, it will remove the element directly and it is not based on index.\n",
    "print(a)"
   ]
  },
  {
   "cell_type": "code",
   "execution_count": 25,
   "id": "fff93f1a",
   "metadata": {},
   "outputs": [
    {
     "name": "stdout",
     "output_type": "stream",
     "text": [
      "[1, 4, 5, 12, 44, 60]\n"
     ]
    }
   ],
   "source": [
    "a.remove(55)   # it will remove one by one but you need to execute again and again\n",
    "print(a)"
   ]
  },
  {
   "cell_type": "markdown",
   "id": "5661d589",
   "metadata": {},
   "source": [
    "# pop"
   ]
  },
  {
   "cell_type": "code",
   "execution_count": 26,
   "id": "d0174033",
   "metadata": {},
   "outputs": [
    {
     "data": {
      "text/plain": [
       "[1, 4, 5, 12, 44, 60]"
      ]
     },
     "execution_count": 26,
     "metadata": {},
     "output_type": "execute_result"
    }
   ],
   "source": [
    "a"
   ]
  },
  {
   "cell_type": "code",
   "execution_count": 27,
   "id": "94924cac",
   "metadata": {},
   "outputs": [
    {
     "data": {
      "text/plain": [
       "1"
      ]
     },
     "execution_count": 27,
     "metadata": {},
     "output_type": "execute_result"
    }
   ],
   "source": [
    "a.pop(0)   # so, it is based on the index."
   ]
  },
  {
   "cell_type": "code",
   "execution_count": 28,
   "id": "62a6fdef",
   "metadata": {},
   "outputs": [
    {
     "name": "stdout",
     "output_type": "stream",
     "text": [
      "[4, 5, 12, 44, 60]\n"
     ]
    }
   ],
   "source": [
    "print(a)    #  it will remove the element but we need to define index."
   ]
  },
  {
   "cell_type": "markdown",
   "id": "ca4a7cf4",
   "metadata": {},
   "source": [
    "# reverse"
   ]
  },
  {
   "cell_type": "code",
   "execution_count": 29,
   "id": "de7e21d0",
   "metadata": {},
   "outputs": [
    {
     "data": {
      "text/plain": [
       "[4, 5, 12, 44, 60]"
      ]
     },
     "execution_count": 29,
     "metadata": {},
     "output_type": "execute_result"
    }
   ],
   "source": [
    "a"
   ]
  },
  {
   "cell_type": "code",
   "execution_count": 30,
   "id": "477de6bd",
   "metadata": {},
   "outputs": [
    {
     "name": "stdout",
     "output_type": "stream",
     "text": [
      "[4, 5, 12, 44, 60]\n"
     ]
    }
   ],
   "source": [
    "a.sort()    # using sort method to manage in the right way. like in asc in order.\n",
    "print(a)"
   ]
  },
  {
   "cell_type": "code",
   "execution_count": 31,
   "id": "04d7c7d6",
   "metadata": {},
   "outputs": [
    {
     "ename": "SyntaxError",
     "evalue": "invalid syntax (<ipython-input-31-348d9132379d>, line 1)",
     "output_type": "error",
     "traceback": [
      "\u001b[1;36m  File \u001b[1;32m\"<ipython-input-31-348d9132379d>\"\u001b[1;36m, line \u001b[1;32m1\u001b[0m\n\u001b[1;33m    a.reverse()      3# the reverse method is basically we use for reverse the elemnets.\u001b[0m\n\u001b[1;37m                     ^\u001b[0m\n\u001b[1;31mSyntaxError\u001b[0m\u001b[1;31m:\u001b[0m invalid syntax\n"
     ]
    }
   ],
   "source": [
    "a.reverse()      3# the reverse method is basically we use for reverse the elemnets.\n",
    "print(a)"
   ]
  },
  {
   "cell_type": "markdown",
   "id": "94af81c3",
   "metadata": {},
   "source": [
    "# clear"
   ]
  },
  {
   "cell_type": "code",
   "execution_count": 32,
   "id": "2d31956b",
   "metadata": {},
   "outputs": [
    {
     "data": {
      "text/plain": [
       "[1, 4, 5, 12, 44, 55, 60]"
      ]
     },
     "execution_count": 32,
     "metadata": {},
     "output_type": "execute_result"
    }
   ],
   "source": [
    "l"
   ]
  },
  {
   "cell_type": "code",
   "execution_count": 33,
   "id": "84423b1b",
   "metadata": {},
   "outputs": [
    {
     "name": "stdout",
     "output_type": "stream",
     "text": [
      "[]\n"
     ]
    }
   ],
   "source": [
    "l.clear()     # clear we basically use for to clear all the elments inthe list.\n",
    "print(l)"
   ]
  },
  {
   "cell_type": "markdown",
   "id": "57034e68",
   "metadata": {},
   "source": [
    "# extend"
   ]
  },
  {
   "cell_type": "code",
   "execution_count": 34,
   "id": "94278954",
   "metadata": {},
   "outputs": [
    {
     "data": {
      "text/plain": [
       "[4, 5, 12, 44, 60]"
      ]
     },
     "execution_count": 34,
     "metadata": {},
     "output_type": "execute_result"
    }
   ],
   "source": [
    "a"
   ]
  },
  {
   "cell_type": "code",
   "execution_count": 35,
   "id": "34da4a0b",
   "metadata": {},
   "outputs": [
    {
     "name": "stdout",
     "output_type": "stream",
     "text": [
      "[4, 5, 12, 44, 60, 2, 3, 2]\n"
     ]
    }
   ],
   "source": [
    "a.extend([2,3,2])\n",
    "print(a)"
   ]
  },
  {
   "cell_type": "code",
   "execution_count": 36,
   "id": "43926142",
   "metadata": {},
   "outputs": [],
   "source": [
    "a.extend([100])    # it will extend the element in the list but in the last."
   ]
  },
  {
   "cell_type": "code",
   "execution_count": 37,
   "id": "cc7bbbef",
   "metadata": {},
   "outputs": [
    {
     "name": "stdout",
     "output_type": "stream",
     "text": [
      "[4, 5, 12, 44, 60, 2, 3, 2, 100]\n"
     ]
    }
   ],
   "source": [
    "print(a)"
   ]
  },
  {
   "cell_type": "markdown",
   "id": "6ff1925f",
   "metadata": {},
   "source": [
    "# checking type of variable"
   ]
  },
  {
   "cell_type": "code",
   "execution_count": 38,
   "id": "5a9c6e68",
   "metadata": {},
   "outputs": [
    {
     "data": {
      "text/plain": [
       "[4, 5, 12, 44, 60, 2, 3, 2, 100]"
      ]
     },
     "execution_count": 38,
     "metadata": {},
     "output_type": "execute_result"
    }
   ],
   "source": [
    "a"
   ]
  },
  {
   "cell_type": "code",
   "execution_count": 39,
   "id": "941d5ac9",
   "metadata": {},
   "outputs": [
    {
     "name": "stdout",
     "output_type": "stream",
     "text": [
      "<class 'list'>\n"
     ]
    }
   ],
   "source": [
    "print(type(a))"
   ]
  },
  {
   "cell_type": "markdown",
   "id": "2e826bda",
   "metadata": {},
   "source": [
    "# dictionary with pop itemm"
   ]
  },
  {
   "cell_type": "code",
   "execution_count": 40,
   "id": "bbd8e788",
   "metadata": {},
   "outputs": [
    {
     "name": "stdout",
     "output_type": "stream",
     "text": [
      "{'name': 'abhi', 'class': '10th'}\n"
     ]
    }
   ],
   "source": [
    "dict = {\"name\":\"abhi\",\"class\":\"10th\"}\n",
    "print(dict)"
   ]
  },
  {
   "cell_type": "code",
   "execution_count": 41,
   "id": "371511af",
   "metadata": {},
   "outputs": [
    {
     "data": {
      "text/plain": [
       "('class', '10th')"
      ]
     },
     "execution_count": 41,
     "metadata": {},
     "output_type": "execute_result"
    }
   ],
   "source": [
    "dict.popitem()     # popitem is basically we use to pop the last item or remove the last item."
   ]
  },
  {
   "cell_type": "code",
   "execution_count": 42,
   "id": "7f140cc9",
   "metadata": {},
   "outputs": [
    {
     "data": {
      "text/plain": [
       "{'name': 'abhi'}"
      ]
     },
     "execution_count": 42,
     "metadata": {},
     "output_type": "execute_result"
    }
   ],
   "source": [
    "dict"
   ]
  },
  {
   "cell_type": "markdown",
   "id": "b199a5ed",
   "metadata": {},
   "source": [
    "# methods in key and values in dictionary"
   ]
  },
  {
   "cell_type": "code",
   "execution_count": 43,
   "id": "b2ed0182",
   "metadata": {},
   "outputs": [
    {
     "data": {
      "text/plain": [
       "dict_keys(['name'])"
      ]
     },
     "execution_count": 43,
     "metadata": {},
     "output_type": "execute_result"
    }
   ],
   "source": [
    "dict.keys()    # so it will find the key name or starting name."
   ]
  },
  {
   "cell_type": "code",
   "execution_count": 44,
   "id": "b3072d30",
   "metadata": {},
   "outputs": [
    {
     "data": {
      "text/plain": [
       "dict_values(['abhi'])"
      ]
     },
     "execution_count": 44,
     "metadata": {},
     "output_type": "execute_result"
    }
   ],
   "source": [
    "dict.values()   # so, it will give the value."
   ]
  },
  {
   "cell_type": "markdown",
   "id": "827fc2cf",
   "metadata": {},
   "source": [
    "# get method in dictionary"
   ]
  },
  {
   "cell_type": "code",
   "execution_count": 45,
   "id": "f670b125",
   "metadata": {},
   "outputs": [
    {
     "name": "stdout",
     "output_type": "stream",
     "text": [
      "{'name': 'abhi'}\n"
     ]
    }
   ],
   "source": [
    "dict.get(\"abhi\")\n",
    "print(dict)"
   ]
  },
  {
   "cell_type": "markdown",
   "id": "1be9a412",
   "metadata": {},
   "source": [
    "# accessing a tuple , list"
   ]
  },
  {
   "cell_type": "code",
   "execution_count": 46,
   "id": "c2c93fe4",
   "metadata": {},
   "outputs": [],
   "source": [
    "j = 1,4,7,6,0,3,5,7    # tuple"
   ]
  },
  {
   "cell_type": "code",
   "execution_count": 47,
   "id": "0ed6fcdc",
   "metadata": {},
   "outputs": [
    {
     "data": {
      "text/plain": [
       "1"
      ]
     },
     "execution_count": 47,
     "metadata": {},
     "output_type": "execute_result"
    }
   ],
   "source": [
    "j[0]    # so, i am here accessing a tuple by setting index no.."
   ]
  },
  {
   "cell_type": "code",
   "execution_count": 49,
   "id": "c92d6ec8",
   "metadata": {},
   "outputs": [
    {
     "data": {
      "text/plain": [
       "7"
      ]
     },
     "execution_count": 49,
     "metadata": {},
     "output_type": "execute_result"
    }
   ],
   "source": [
    "j[2]    # setting index no. 2"
   ]
  },
  {
   "cell_type": "code",
   "execution_count": 50,
   "id": "10413d7d",
   "metadata": {},
   "outputs": [],
   "source": [
    "k = [4,5,6,7,8]      # list"
   ]
  },
  {
   "cell_type": "code",
   "execution_count": 51,
   "id": "7ff0cc49",
   "metadata": {},
   "outputs": [
    {
     "data": {
      "text/plain": [
       "4"
      ]
     },
     "execution_count": 51,
     "metadata": {},
     "output_type": "execute_result"
    }
   ],
   "source": [
    "k[0]      # finding 0th index."
   ]
  },
  {
   "cell_type": "code",
   "execution_count": 55,
   "id": "c6cc374c",
   "metadata": {},
   "outputs": [],
   "source": [
    "m = {\"s_no\":1,\"name\":\"raj\"}    # so in deictionary we can not access like the list, and tuple"
   ]
  },
  {
   "cell_type": "code",
   "execution_count": 57,
   "id": "c7f81c80",
   "metadata": {},
   "outputs": [
    {
     "ename": "KeyError",
     "evalue": "1",
     "output_type": "error",
     "traceback": [
      "\u001b[1;31m---------------------------------------------------------------------------\u001b[0m",
      "\u001b[1;31mKeyError\u001b[0m                                  Traceback (most recent call last)",
      "\u001b[1;32m<ipython-input-57-c36dbd6b589c>\u001b[0m in \u001b[0;36m<module>\u001b[1;34m\u001b[0m\n\u001b[1;32m----> 1\u001b[1;33m \u001b[0mm\u001b[0m\u001b[1;33m[\u001b[0m\u001b[1;36m1\u001b[0m\u001b[1;33m]\u001b[0m\u001b[1;33m\u001b[0m\u001b[1;33m\u001b[0m\u001b[0m\n\u001b[0m",
      "\u001b[1;31mKeyError\u001b[0m: 1"
     ]
    }
   ],
   "source": [
    "m[1]"
   ]
  },
  {
   "cell_type": "code",
   "execution_count": 58,
   "id": "5f09c653",
   "metadata": {},
   "outputs": [],
   "source": [
    "n = {1,2,3,4,5}      # set., in set also i have tried to find index. but not get the result"
   ]
  },
  {
   "cell_type": "code",
   "execution_count": 60,
   "id": "f391f629",
   "metadata": {},
   "outputs": [
    {
     "ename": "TypeError",
     "evalue": "'set' object is not subscriptable",
     "output_type": "error",
     "traceback": [
      "\u001b[1;31m---------------------------------------------------------------------------\u001b[0m",
      "\u001b[1;31mTypeError\u001b[0m                                 Traceback (most recent call last)",
      "\u001b[1;32m<ipython-input-60-97a0d2965097>\u001b[0m in \u001b[0;36m<module>\u001b[1;34m\u001b[0m\n\u001b[1;32m----> 1\u001b[1;33m \u001b[0mn\u001b[0m\u001b[1;33m[\u001b[0m\u001b[1;36m1\u001b[0m\u001b[1;33m]\u001b[0m\u001b[1;33m\u001b[0m\u001b[1;33m\u001b[0m\u001b[0m\n\u001b[0m",
      "\u001b[1;31mTypeError\u001b[0m: 'set' object is not subscriptable"
     ]
    }
   ],
   "source": [
    "n[1]"
   ]
  },
  {
   "cell_type": "markdown",
   "id": "a4bdb507",
   "metadata": {},
   "source": [
    "# random method, zip"
   ]
  },
  {
   "cell_type": "markdown",
   "id": "e388c207",
   "metadata": {},
   "source": [
    "#### Q1"
   ]
  },
  {
   "cell_type": "code",
   "execution_count": 62,
   "id": "93699fba",
   "metadata": {},
   "outputs": [],
   "source": [
    "import random    # libraray of rendom\n",
    "\n",
    "student = [\"ram\",\"shyam\",\"raju\",\"monu\",\"sonu\"]\n",
    "marks = [random.randint(25,100) for i in range(len(student))]     # here i ahv e set the limit \n",
    "                                                            # according to the student length"
   ]
  },
  {
   "cell_type": "code",
   "execution_count": 65,
   "id": "53579ca6",
   "metadata": {},
   "outputs": [
    {
     "name": "stdout",
     "output_type": "stream",
     "text": [
      "student \n",
      " ['ram', 'shyam', 'raju', 'monu', 'sonu']\n",
      "marks \n",
      " [75, 69, 41, 29, 35]\n"
     ]
    }
   ],
   "source": [
    "print(\"student \\n\", student)\n",
    "print(\"marks \\n\", marks)"
   ]
  },
  {
   "cell_type": "code",
   "execution_count": 66,
   "id": "1ec1d424",
   "metadata": {},
   "outputs": [
    {
     "data": {
      "text/plain": [
       "[('ram', 75), ('shyam', 69), ('raju', 41), ('monu', 29), ('sonu', 35)]"
      ]
     },
     "execution_count": 66,
     "metadata": {},
     "output_type": "execute_result"
    }
   ],
   "source": [
    "list(zip(student,marks))         # making zip with the help of list."
   ]
  },
  {
   "cell_type": "code",
   "execution_count": 71,
   "id": "3ec9dbac",
   "metadata": {},
   "outputs": [],
   "source": [
    "d = {}                                # i want the student and marks in dictionary.\n",
    "for i, j in zip(student, marks):      # that's why i have applied zip method also.\n",
    "    d[i] = j"
   ]
  },
  {
   "cell_type": "code",
   "execution_count": 72,
   "id": "d0bb04b4",
   "metadata": {},
   "outputs": [
    {
     "data": {
      "text/plain": [
       "{'ram': 75, 'shyam': 69, 'raju': 41, 'monu': 29, 'sonu': 35}"
      ]
     },
     "execution_count": 72,
     "metadata": {},
     "output_type": "execute_result"
    }
   ],
   "source": [
    "d   # output is here."
   ]
  },
  {
   "cell_type": "markdown",
   "id": "4cb6c92b",
   "metadata": {},
   "source": [
    "#### Q2"
   ]
  },
  {
   "cell_type": "code",
   "execution_count": 73,
   "id": "5dce899d",
   "metadata": {},
   "outputs": [],
   "source": [
    "import random\n",
    "\n",
    "emp = [\"raj\",\"riya kapoor\",\"sanju\",\"kumkum\",\"shanu\"]\n",
    "salary = [random.randint(5000,10000) for i in range(len(emp))]"
   ]
  },
  {
   "cell_type": "code",
   "execution_count": 75,
   "id": "1a5c179a",
   "metadata": {},
   "outputs": [
    {
     "name": "stdout",
     "output_type": "stream",
     "text": [
      "employment name \n",
      " ['raj', 'riya kapoor', 'sanju', 'kumkum', 'shanu']\n",
      "salary \n",
      " [6257, 9398, 5765, 7443, 5977]\n"
     ]
    }
   ],
   "source": [
    "print(\"employment name \\n\", emp)\n",
    "print(\"salary \\n\", salary)"
   ]
  },
  {
   "cell_type": "code",
   "execution_count": 76,
   "id": "287e8e52",
   "metadata": {},
   "outputs": [
    {
     "data": {
      "text/plain": [
       "[('raj', 6257),\n",
       " ('riya kapoor', 9398),\n",
       " ('sanju', 5765),\n",
       " ('kumkum', 7443),\n",
       " ('shanu', 5977)]"
      ]
     },
     "execution_count": 76,
     "metadata": {},
     "output_type": "execute_result"
    }
   ],
   "source": [
    "list(zip(emp, salary))"
   ]
  },
  {
   "cell_type": "code",
   "execution_count": 79,
   "id": "4f4119fa",
   "metadata": {},
   "outputs": [],
   "source": [
    "f = {}\n",
    "for i, j in zip(emp, salary):\n",
    "    f[i] = j\n"
   ]
  },
  {
   "cell_type": "code",
   "execution_count": 80,
   "id": "2ed3c8f4",
   "metadata": {
    "scrolled": true
   },
   "outputs": [
    {
     "data": {
      "text/plain": [
       "{'raj': 6257,\n",
       " 'riya kapoor': 9398,\n",
       " 'sanju': 5765,\n",
       " 'kumkum': 7443,\n",
       " 'shanu': 5977}"
      ]
     },
     "execution_count": 80,
     "metadata": {},
     "output_type": "execute_result"
    }
   ],
   "source": [
    "f"
   ]
  },
  {
   "cell_type": "markdown",
   "id": "511aaf6e",
   "metadata": {},
   "source": [
    "# difference method"
   ]
  },
  {
   "cell_type": "code",
   "execution_count": 97,
   "id": "594fe588",
   "metadata": {},
   "outputs": [],
   "source": [
    "d = {1,2,3,4,5,6,7,8}\n",
    "s = {4,5,6,7,8}"
   ]
  },
  {
   "cell_type": "code",
   "execution_count": 98,
   "id": "f17be2dd",
   "metadata": {},
   "outputs": [
    {
     "data": {
      "text/plain": [
       "{1, 2, 3}"
      ]
     },
     "execution_count": 98,
     "metadata": {},
     "output_type": "execute_result"
    }
   ],
   "source": [
    "d.difference(s)   # 123 is not there that's why it is showing."
   ]
  },
  {
   "cell_type": "code",
   "execution_count": 99,
   "id": "3f286e4f",
   "metadata": {},
   "outputs": [
    {
     "data": {
      "text/plain": [
       "set()"
      ]
     },
     "execution_count": 99,
     "metadata": {},
     "output_type": "execute_result"
    }
   ],
   "source": [
    "s.difference(d)    # when i put s.differnce then every elements are there in d but it shows set. \n",
    "                   # means, it will show set because every elements are there."
   ]
  },
  {
   "cell_type": "markdown",
   "id": "78bb27c1",
   "metadata": {},
   "source": [
    "# update method"
   ]
  },
  {
   "cell_type": "code",
   "execution_count": 91,
   "id": "dd72aea0",
   "metadata": {},
   "outputs": [],
   "source": [
    "d.difference_update(s)    # the update method we can see the result below"
   ]
  },
  {
   "cell_type": "code",
   "execution_count": 92,
   "id": "c0c47a5a",
   "metadata": {},
   "outputs": [
    {
     "data": {
      "text/plain": [
       "{1, 2, 3}"
      ]
     },
     "execution_count": 92,
     "metadata": {},
     "output_type": "execute_result"
    }
   ],
   "source": [
    "d    # it is going to split in 1 to 8 in d and s"
   ]
  },
  {
   "cell_type": "code",
   "execution_count": 93,
   "id": "6e460e83",
   "metadata": {},
   "outputs": [
    {
     "data": {
      "text/plain": [
       "{4, 5, 6, 7, 8}"
      ]
     },
     "execution_count": 93,
     "metadata": {},
     "output_type": "execute_result"
    }
   ],
   "source": [
    "s"
   ]
  },
  {
   "cell_type": "code",
   "execution_count": 100,
   "id": "11bec418",
   "metadata": {},
   "outputs": [],
   "source": [
    "s.difference_update(d)    # when i did find s.difference_upadte in \"d\" then "
   ]
  },
  {
   "cell_type": "code",
   "execution_count": 101,
   "id": "74c57800",
   "metadata": {},
   "outputs": [
    {
     "data": {
      "text/plain": [
       "{1, 2, 3, 4, 5, 6, 7, 8}"
      ]
     },
     "execution_count": 101,
     "metadata": {},
     "output_type": "execute_result"
    }
   ],
   "source": [
    "d                        # it gives only d elements esetise."
   ]
  },
  {
   "cell_type": "code",
   "execution_count": 102,
   "id": "d044502b",
   "metadata": {},
   "outputs": [
    {
     "data": {
      "text/plain": [
       "set()"
      ]
     },
     "execution_count": 102,
     "metadata": {},
     "output_type": "execute_result"
    }
   ],
   "source": [
    "s                       # but in s it give only set or nothing."
   ]
  },
  {
   "cell_type": "code",
   "execution_count": null,
   "id": "a1e8c753",
   "metadata": {},
   "outputs": [],
   "source": []
  }
 ],
 "metadata": {
  "kernelspec": {
   "display_name": "Python 3",
   "language": "python",
   "name": "python3"
  },
  "language_info": {
   "codemirror_mode": {
    "name": "ipython",
    "version": 3
   },
   "file_extension": ".py",
   "mimetype": "text/x-python",
   "name": "python",
   "nbconvert_exporter": "python",
   "pygments_lexer": "ipython3",
   "version": "3.8.8"
  }
 },
 "nbformat": 4,
 "nbformat_minor": 5
}
