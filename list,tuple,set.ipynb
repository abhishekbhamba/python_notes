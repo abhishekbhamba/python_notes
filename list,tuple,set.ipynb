{
 "cells": [
  {
   "cell_type": "code",
   "execution_count": 1,
   "id": "a34ded3f",
   "metadata": {},
   "outputs": [],
   "source": [
    "import numpy as np"
   ]
  },
  {
   "cell_type": "markdown",
   "id": "923045d4",
   "metadata": {},
   "source": [
    "# list"
   ]
  },
  {
   "cell_type": "code",
   "execution_count": 2,
   "id": "cc2b5356",
   "metadata": {},
   "outputs": [],
   "source": [
    "# list are denoted by []\n",
    "# it is mutable\n",
    "# it allow duplicate\n",
    "# it is ordered data\n",
    "# it allow all datatype"
   ]
  },
  {
   "cell_type": "code",
   "execution_count": 9,
   "id": "e4c6f992",
   "metadata": {},
   "outputs": [
    {
     "data": {
      "text/plain": [
       "[1, 2, 3, 4, 5, 10, 6, 'string', 'abhi', 'maggie', 'awesome', 4.5]"
      ]
     },
     "execution_count": 9,
     "metadata": {},
     "output_type": "execute_result"
    }
   ],
   "source": [
    "list = [1,2,3,4,5,10,6,\"string\",\"abhi\",\"maggie\",\"awesome\",4.5]\n",
    "list"
   ]
  },
  {
   "cell_type": "markdown",
   "id": "d3e3d108",
   "metadata": {},
   "source": [
    "# tuple"
   ]
  },
  {
   "cell_type": "code",
   "execution_count": 5,
   "id": "c69c9fbd",
   "metadata": {},
   "outputs": [],
   "source": [
    "# tuple is denoted by ()\n",
    "# it is immutable\n",
    "# it is similar to list but in terms of indexing, and structure\n",
    "# tuple is ordered"
   ]
  },
  {
   "cell_type": "code",
   "execution_count": 8,
   "id": "590cc7a3",
   "metadata": {},
   "outputs": [
    {
     "data": {
      "text/plain": [
       "(1, 2, 3, 4, 5, 10, 6, 'abhi', 4.5)"
      ]
     },
     "execution_count": 8,
     "metadata": {},
     "output_type": "execute_result"
    }
   ],
   "source": [
    "tuple = (1,2,3,4,5,10,6,\"abhi\",4.5)\n",
    "tuple"
   ]
  },
  {
   "cell_type": "markdown",
   "id": "ee85505a",
   "metadata": {},
   "source": [
    "# dictionary"
   ]
  },
  {
   "cell_type": "code",
   "execution_count": 10,
   "id": "c73c5598",
   "metadata": {},
   "outputs": [],
   "source": [
    "# the dictionary are denoted by {}\n",
    "# it is mutable\n",
    "# it override the duplicates\n",
    "# it allow all data types\n",
    "# it is unordered."
   ]
  },
  {
   "cell_type": "code",
   "execution_count": 12,
   "id": "1fafcb39",
   "metadata": {},
   "outputs": [
    {
     "data": {
      "text/plain": [
       "{'name': 'abhi', 'job': 'data scientist', 'salary': '20 lakh'}"
      ]
     },
     "execution_count": 12,
     "metadata": {},
     "output_type": "execute_result"
    }
   ],
   "source": [
    "dict = {\"name\":\"abhi\",\"job\":\"data scientist\",\"salary\":\"20 lakh\"}\n",
    "dict"
   ]
  },
  {
   "cell_type": "code",
   "execution_count": 15,
   "id": "1a17c2de",
   "metadata": {},
   "outputs": [
    {
     "data": {
      "text/plain": [
       "(1, 2, 3, 4)"
      ]
     },
     "execution_count": 15,
     "metadata": {},
     "output_type": "execute_result"
    }
   ],
   "source": [
    "dict1 = 1,2,3,4           # we can use tuple without circle brackets. \n",
    "dict1"
   ]
  },
  {
   "cell_type": "markdown",
   "id": "b197f335",
   "metadata": {},
   "source": [
    "# sets"
   ]
  },
  {
   "cell_type": "code",
   "execution_count": 16,
   "id": "0a5ef115",
   "metadata": {},
   "outputs": [],
   "source": [
    "# set are denoted by {}\n",
    "# it is unordered, unindexed, and unchangeable"
   ]
  },
  {
   "cell_type": "code",
   "execution_count": 18,
   "id": "dc10c935",
   "metadata": {},
   "outputs": [
    {
     "data": {
      "text/plain": [
       "{1, 2, 3, 4.5, 'python'}"
      ]
     },
     "execution_count": 18,
     "metadata": {},
     "output_type": "execute_result"
    }
   ],
   "source": [
    "sets = {1,2,3,\"python\",4.5}\n",
    "sets"
   ]
  },
  {
   "cell_type": "code",
   "execution_count": null,
   "id": "3a33c9cc",
   "metadata": {},
   "outputs": [],
   "source": []
  }
 ],
 "metadata": {
  "kernelspec": {
   "display_name": "Python 3",
   "language": "python",
   "name": "python3"
  },
  "language_info": {
   "codemirror_mode": {
    "name": "ipython",
    "version": 3
   },
   "file_extension": ".py",
   "mimetype": "text/x-python",
   "name": "python",
   "nbconvert_exporter": "python",
   "pygments_lexer": "ipython3",
   "version": "3.8.8"
  }
 },
 "nbformat": 4,
 "nbformat_minor": 5
}
