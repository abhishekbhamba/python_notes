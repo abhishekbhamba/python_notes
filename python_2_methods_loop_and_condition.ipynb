{
 "cells": [
  {
   "cell_type": "code",
   "execution_count": 1,
   "id": "374f50c7",
   "metadata": {},
   "outputs": [],
   "source": [
    "import numpy as np"
   ]
  },
  {
   "cell_type": "code",
   "execution_count": 14,
   "id": "6e0c3474",
   "metadata": {},
   "outputs": [],
   "source": [
    "# so, i am creating set here\n",
    "\n",
    "s = {0,1,2,3,4,5,6,7,8,9}\n",
    "v = {11,21,1,2,3,4,5}"
   ]
  },
  {
   "cell_type": "code",
   "execution_count": 15,
   "id": "5fad4134",
   "metadata": {},
   "outputs": [
    {
     "name": "stdout",
     "output_type": "stream",
     "text": [
      "<class 'set'>\n",
      "<class 'set'>\n"
     ]
    }
   ],
   "source": [
    "print(type(s))   # checking the type it is set.\n",
    "print(type(v))"
   ]
  },
  {
   "cell_type": "markdown",
   "id": "074e19d3",
   "metadata": {},
   "source": [
    "# symmetric_difference"
   ]
  },
  {
   "cell_type": "code",
   "execution_count": 16,
   "id": "966e34dd",
   "metadata": {},
   "outputs": [
    {
     "data": {
      "text/plain": [
       "{0, 6, 7, 8, 9, 11, 21}"
      ]
     },
     "execution_count": 16,
     "metadata": {},
     "output_type": "execute_result"
    }
   ],
   "source": [
    "s.symmetric_difference(v)    # so, the symmetric difference is which is not present in it.\n",
    "                             # then we call this is symmetric_difference."
   ]
  },
  {
   "cell_type": "code",
   "execution_count": 17,
   "id": "2c043e24",
   "metadata": {},
   "outputs": [
    {
     "data": {
      "text/plain": [
       "{0, 6, 7, 8, 9, 11, 21}"
      ]
     },
     "execution_count": 17,
     "metadata": {},
     "output_type": "execute_result"
    }
   ],
   "source": [
    "v.symmetric_difference(s)     # it is same there is no change."
   ]
  },
  {
   "cell_type": "markdown",
   "id": "ff6eef68",
   "metadata": {},
   "source": [
    "# union"
   ]
  },
  {
   "cell_type": "code",
   "execution_count": 18,
   "id": "4baa435f",
   "metadata": {},
   "outputs": [
    {
     "name": "stdout",
     "output_type": "stream",
     "text": [
      "S elemnts of set:  {0, 1, 2, 3, 4, 5, 6, 7, 8, 9}\n",
      "V elements of set:  {1, 2, 3, 4, 5, 11, 21}\n"
     ]
    }
   ],
   "source": [
    "print(\"S elemnts of set: \" ,s)\n",
    "print(\"V elements of set: \" ,v)"
   ]
  },
  {
   "cell_type": "code",
   "execution_count": 19,
   "id": "537ca6a5",
   "metadata": {},
   "outputs": [
    {
     "data": {
      "text/plain": [
       "{0, 1, 2, 3, 4, 5, 6, 7, 8, 9, 11, 21}"
      ]
     },
     "execution_count": 19,
     "metadata": {},
     "output_type": "execute_result"
    }
   ],
   "source": [
    "s.union(v)    # so it will give all the element which may be repeted one.\n"
   ]
  },
  {
   "cell_type": "markdown",
   "id": "5c739d06",
   "metadata": {},
   "source": [
    "# intersection"
   ]
  },
  {
   "cell_type": "code",
   "execution_count": 20,
   "id": "8c83762e",
   "metadata": {},
   "outputs": [
    {
     "data": {
      "text/plain": [
       "{1, 2, 3, 4, 5}"
      ]
     },
     "execution_count": 20,
     "metadata": {},
     "output_type": "execute_result"
    }
   ],
   "source": [
    "s.intersection(v)   # so, intersection which give only unique elements,\n",
    "                    # which can not repeted"
   ]
  },
  {
   "cell_type": "markdown",
   "id": "b98b7354",
   "metadata": {},
   "source": [
    "# add"
   ]
  },
  {
   "cell_type": "code",
   "execution_count": 21,
   "id": "434c82b9",
   "metadata": {},
   "outputs": [],
   "source": [
    "v.add(\"python\")"
   ]
  },
  {
   "cell_type": "code",
   "execution_count": 22,
   "id": "451e51e3",
   "metadata": {},
   "outputs": [
    {
     "data": {
      "text/plain": [
       "{1, 11, 2, 21, 3, 4, 5, 'python'}"
      ]
     },
     "execution_count": 22,
     "metadata": {},
     "output_type": "execute_result"
    }
   ],
   "source": [
    "v   # here is the result. python is added here."
   ]
  },
  {
   "cell_type": "markdown",
   "id": "dfd451ad",
   "metadata": {},
   "source": [
    "# update"
   ]
  },
  {
   "cell_type": "code",
   "execution_count": 23,
   "id": "e766c94d",
   "metadata": {},
   "outputs": [],
   "source": [
    "v.update(\"abhi\",\"bhambak\")     # so, it update the set"
   ]
  },
  {
   "cell_type": "code",
   "execution_count": 24,
   "id": "d2713931",
   "metadata": {},
   "outputs": [
    {
     "data": {
      "text/plain": [
       "{1, 11, 2, 21, 3, 4, 5, 'a', 'b', 'h', 'i', 'k', 'm', 'python'}"
      ]
     },
     "execution_count": 24,
     "metadata": {},
     "output_type": "execute_result"
    }
   ],
   "source": [
    "v"
   ]
  },
  {
   "cell_type": "code",
   "execution_count": 25,
   "id": "41432465",
   "metadata": {},
   "outputs": [],
   "source": [
    "v.update([\"abhi\",\"bhambak\"])\n"
   ]
  },
  {
   "cell_type": "code",
   "execution_count": 26,
   "id": "eec0b8bf",
   "metadata": {},
   "outputs": [
    {
     "data": {
      "text/plain": [
       "{1,\n",
       " 11,\n",
       " 2,\n",
       " 21,\n",
       " 3,\n",
       " 4,\n",
       " 5,\n",
       " 'a',\n",
       " 'abhi',\n",
       " 'b',\n",
       " 'bhambak',\n",
       " 'h',\n",
       " 'i',\n",
       " 'k',\n",
       " 'm',\n",
       " 'python'}"
      ]
     },
     "execution_count": 26,
     "metadata": {},
     "output_type": "execute_result"
    }
   ],
   "source": [
    "v     # but it is giving me differently but update command is right here. \n",
    "      #because it is creating set of some word."
   ]
  },
  {
   "cell_type": "markdown",
   "id": "d44d5b7c",
   "metadata": {},
   "source": [
    "# string with checking char"
   ]
  },
  {
   "cell_type": "code",
   "execution_count": 27,
   "id": "341fc430",
   "metadata": {},
   "outputs": [
    {
     "name": "stdout",
     "output_type": "stream",
     "text": [
      "length of s: 10\n",
      " length of v: 16 \n"
     ]
    }
   ],
   "source": [
    "# here checking the length of s and v. \n",
    "\n",
    "len_s = len(s)\n",
    "len_v = len(v)\n",
    "\n",
    "print(f\"length of s: {len_s}\\n length of v: {len_v} \")"
   ]
  },
  {
   "cell_type": "markdown",
   "id": "0da7a567",
   "metadata": {},
   "source": [
    "# if condition with string and print command"
   ]
  },
  {
   "cell_type": "code",
   "execution_count": 28,
   "id": "d395956d",
   "metadata": {},
   "outputs": [],
   "source": [
    "if len_s > len_v:                 # here it is not giving any result. it doesn't satisfy condition\n",
    "    print(\"s is greater than v\")"
   ]
  },
  {
   "cell_type": "code",
   "execution_count": 29,
   "id": "af4c54f2",
   "metadata": {},
   "outputs": [
    {
     "name": "stdout",
     "output_type": "stream",
     "text": [
      "s is greater than v\n"
     ]
    }
   ],
   "source": [
    "if len_v > len_s:                     # but here it is giving result because it satisfy condition.\n",
    "    print(\"s is greater than v\")"
   ]
  },
  {
   "cell_type": "markdown",
   "id": "01c6dbb0",
   "metadata": {},
   "source": [
    "# elif with input"
   ]
  },
  {
   "cell_type": "markdown",
   "id": "527a1681",
   "metadata": {},
   "source": [
    "##### Q1"
   ]
  },
  {
   "cell_type": "code",
   "execution_count": 32,
   "id": "1920dcd6",
   "metadata": {},
   "outputs": [
    {
     "name": "stdout",
     "output_type": "stream",
     "text": [
      "ram\n",
      "shyam\n",
      "length of ram is lesser than shyam\n"
     ]
    }
   ],
   "source": [
    "# so creating a short programme or making condition of if and elif.\n",
    "\n",
    "q = input()\n",
    "w = input()\n",
    "\n",
    "if len(q) > len(w):                             # so, making length and checking it also.\n",
    "    prin(f\"length of {q} is graeter than {w}\")\n",
    "elif len(q) < len(w):\n",
    "    print(f\"length of {q} is lesser than {w}\")"
   ]
  },
  {
   "cell_type": "markdown",
   "id": "8b30a1ab",
   "metadata": {},
   "source": [
    "##### Q2"
   ]
  },
  {
   "cell_type": "code",
   "execution_count": 35,
   "id": "9984e882",
   "metadata": {},
   "outputs": [
    {
     "name": "stdout",
     "output_type": "stream",
     "text": [
      "abhishek\n",
      "abhi\n",
      "abhishek is greater than abhi\n"
     ]
    }
   ],
   "source": [
    "# it is same as above example.\n",
    "\n",
    "e = input()\n",
    "r = input()\n",
    "\n",
    "if len(e) > len(r):\n",
    "    print(f\"{e} is greater than {r}\")\n",
    "elif len(e) < len(r):\n",
    "    print(f\"{e} is lesser than  {r}\")"
   ]
  },
  {
   "cell_type": "markdown",
   "id": "fb85ac7f",
   "metadata": {},
   "source": [
    "##### Q3"
   ]
  },
  {
   "cell_type": "code",
   "execution_count": 36,
   "id": "c289bdce",
   "metadata": {},
   "outputs": [
    {
     "name": "stdout",
     "output_type": "stream",
     "text": [
      "enter the age:   23\n",
      "enter person have made booking:   yes\n",
      "yes he/she has made booking\n"
     ]
    }
   ],
   "source": [
    "# making a programme to check the age with movie and criteria also.\n",
    "\n",
    "a = int(input(\"enter the age:   \"))\n",
    "b = input(\"enter person have made booking:   \")\n",
    "\n",
    "if a >= 18 and b == \"yes\":\n",
    "    print(\"yes he/she has made booking\")\n",
    "else:\n",
    "    print(\"no he/she has not made booking\")"
   ]
  },
  {
   "cell_type": "markdown",
   "id": "4da3cb95",
   "metadata": {},
   "source": [
    "##### Q4"
   ]
  },
  {
   "cell_type": "code",
   "execution_count": 37,
   "id": "30b2a431",
   "metadata": {},
   "outputs": [
    {
     "name": "stdout",
     "output_type": "stream",
     "text": [
      "abhishek\n",
      "23\n",
      "eligible to watch movie\n"
     ]
    }
   ],
   "source": [
    "a = input()          # it is similar as above programme.\n",
    "b = int(input())\n",
    "if b >= 18:\n",
    "    print(\"eligible to watch movie\")\n",
    "else:\n",
    "    print(\"not eligible for movie\")"
   ]
  },
  {
   "cell_type": "markdown",
   "id": "5583a9f0",
   "metadata": {},
   "source": [
    "##### q5"
   ]
  },
  {
   "cell_type": "code",
   "execution_count": 38,
   "id": "9ac8239b",
   "metadata": {},
   "outputs": [
    {
     "ename": "SyntaxError",
     "evalue": "invalid syntax (<ipython-input-38-d09afc8d38e0>, line 2)",
     "output_type": "error",
     "traceback": [
      "\u001b[1;36m  File \u001b[1;32m\"<ipython-input-38-d09afc8d38e0>\"\u001b[1;36m, line \u001b[1;32m2\u001b[0m\n\u001b[1;33m    run = int(input(\"enter the run:   \"))\u001b[0m\n\u001b[1;37m    ^\u001b[0m\n\u001b[1;31mSyntaxError\u001b[0m\u001b[1;31m:\u001b[0m invalid syntax\n"
     ]
    }
   ],
   "source": [
    "match_won = (input(\"true/false:   \")\n",
    "run = int(input(\"enter the run:   \"))\n",
    "\n",
    "if match_won == \"yes\":\n",
    "    if run >= 80:\n",
    "        print(\"made the best score\")\n",
    "    else:\n",
    "        print(\"team india is proude for winning\")\n",
    "else:\n",
    "    print(\"loose the match\")"
   ]
  },
  {
   "cell_type": "markdown",
   "id": "96469170",
   "metadata": {},
   "source": [
    "##### Q6"
   ]
  },
  {
   "cell_type": "code",
   "execution_count": 39,
   "id": "c9c7f78e",
   "metadata": {
    "scrolled": true
   },
   "outputs": [
    {
     "name": "stdout",
     "output_type": "stream",
     "text": [
      "A:  4\n",
      "S:  8\n",
      "D:  1\n",
      "s is greater than d and a\n"
     ]
    }
   ],
   "source": [
    "# here i have made a programme to check which value is greater than from other values.\n",
    "\n",
    "a = input(\"A:  \")\n",
    "s = input(\"S:  \")\n",
    "d = input(\"D:  \")\n",
    "\n",
    "if a > s and a > d:\n",
    "    print(\"x is greater than s and d\")\n",
    "else:\n",
    "    if s > d:\n",
    "        print(\"s is greater than d and a\")\n",
    "    else:\n",
    "        print(\"d is greater than s and a\")"
   ]
  },
  {
   "cell_type": "markdown",
   "id": "d7dc0991",
   "metadata": {},
   "source": [
    "# list, tuple, set with range and \"for loop with range\""
   ]
  },
  {
   "cell_type": "code",
   "execution_count": 87,
   "id": "3c5fed95",
   "metadata": {},
   "outputs": [],
   "source": [
    "del(list)       # the del list is most helpful it delete the whole list, set and tuple\n",
    "                # if you feel any problem and get error.\n",
    "                # then you can use it to remove old one and start with fresh.\n",
    "                # so, what i got here i got error inn the list, tuple, set and etc\n",
    "                # using this i can solve the range issue.\n",
    "                # so, i did use some places where it is needed."
   ]
  },
  {
   "cell_type": "code",
   "execution_count": 40,
   "id": "159396ef",
   "metadata": {},
   "outputs": [
    {
     "name": "stdout",
     "output_type": "stream",
     "text": [
      "[1, 2, 3, 4, 5, 6, 7, 8, 9]\n"
     ]
    }
   ],
   "source": [
    "list = list(range(1,10))     # so, here i am defining the range and making list here.\n",
    "print(list)"
   ]
  },
  {
   "cell_type": "code",
   "execution_count": 41,
   "id": "53ea5b61",
   "metadata": {
    "scrolled": true
   },
   "outputs": [
    {
     "data": {
      "text/plain": [
       "list"
      ]
     },
     "execution_count": 41,
     "metadata": {},
     "output_type": "execute_result"
    }
   ],
   "source": [
    "type(list)"
   ]
  },
  {
   "cell_type": "code",
   "execution_count": 90,
   "id": "c3b7bd94",
   "metadata": {},
   "outputs": [],
   "source": [
    "del(tuple)"
   ]
  },
  {
   "cell_type": "code",
   "execution_count": 42,
   "id": "ced8a413",
   "metadata": {},
   "outputs": [
    {
     "name": "stdout",
     "output_type": "stream",
     "text": [
      "(1, 2, 3, 4, 5, 6, 7, 8, 9, 10, 11, 12, 13, 14, 15, 16, 17, 18, 19)\n"
     ]
    }
   ],
   "source": [
    "tuple = tuple(range(1,20))     # by the using range method we can make any range.\n",
    "print(tuple)                   # so, i am using tuple."
   ]
  },
  {
   "cell_type": "code",
   "execution_count": 43,
   "id": "ed91d2d8",
   "metadata": {},
   "outputs": [
    {
     "data": {
      "text/plain": [
       "tuple"
      ]
     },
     "execution_count": 43,
     "metadata": {},
     "output_type": "execute_result"
    }
   ],
   "source": [
    "type(tuple)"
   ]
  },
  {
   "cell_type": "code",
   "execution_count": 94,
   "id": "f56fc4f5",
   "metadata": {},
   "outputs": [],
   "source": [
    "del(set)   "
   ]
  },
  {
   "cell_type": "code",
   "execution_count": 44,
   "id": "378d59c7",
   "metadata": {},
   "outputs": [
    {
     "data": {
      "text/plain": [
       "{1, 2, 3, 4, 5, 6, 7, 8, 9}"
      ]
     },
     "execution_count": 44,
     "metadata": {},
     "output_type": "execute_result"
    }
   ],
   "source": [
    "set(range(1,10))         # so, set is callable here.\n",
    "                         # we can define it by range."
   ]
  },
  {
   "cell_type": "code",
   "execution_count": 45,
   "id": "c3cc7994",
   "metadata": {},
   "outputs": [
    {
     "name": "stdout",
     "output_type": "stream",
     "text": [
      "python\n",
      "python\n",
      "python\n",
      "python\n",
      "python\n"
     ]
    }
   ],
   "source": [
    "for i in range(5):           # making a range of 5.\n",
    "    print(\"python\")          # using a loop because i want python 5times."
   ]
  },
  {
   "cell_type": "code",
   "execution_count": 46,
   "id": "dbae34c1",
   "metadata": {},
   "outputs": [
    {
     "name": "stdout",
     "output_type": "stream",
     "text": [
      "abhi bhambak 23\n",
      "abhi bhambak 23\n",
      "abhi bhambak 23\n",
      "abhi bhambak 23\n",
      "abhi bhambak 23\n",
      "abhi bhambak 23\n",
      "abhi bhambak 23\n",
      "abhi bhambak 23\n",
      "abhi bhambak 23\n",
      "abhi bhambak 23\n"
     ]
    }
   ],
   "source": [
    "for i in range(10):                  # it is same as above.\n",
    "    print(\"abhi\",\"bhambak\",23)"
   ]
  },
  {
   "cell_type": "code",
   "execution_count": 47,
   "id": "03d6edf0",
   "metadata": {},
   "outputs": [
    {
     "name": "stdout",
     "output_type": "stream",
     "text": [
      "0\n",
      "1\n",
      "2\n",
      "3\n",
      "4\n"
     ]
    }
   ],
   "source": [
    "for i in range(5):\n",
    "    print(i)"
   ]
  },
  {
   "cell_type": "code",
   "execution_count": 48,
   "id": "0180253b",
   "metadata": {},
   "outputs": [
    {
     "name": "stdout",
     "output_type": "stream",
     "text": [
      "10\n",
      "13\n",
      "16\n",
      "19\n"
     ]
    }
   ],
   "source": [
    "# so, here i have define the range 10 to 20\n",
    "# with this interval is 3.\n",
    "# so, we can use it for \"for loop\"\n",
    "\n",
    "for i in range(10,20,3):\n",
    "    print(i)"
   ]
  },
  {
   "cell_type": "markdown",
   "id": "735f9e1c",
   "metadata": {},
   "source": [
    "# questions"
   ]
  },
  {
   "cell_type": "code",
   "execution_count": 49,
   "id": "f06d3aa5",
   "metadata": {},
   "outputs": [
    {
     "name": "stdout",
     "output_type": "stream",
     "text": [
      "0 even\n",
      "1 odd\n",
      "2 even\n",
      "3 odd\n"
     ]
    }
   ],
   "source": [
    "# so, here i am using loop with if and else condition to check odd and even no..\n",
    "\n",
    "for i in range(4):\n",
    "    if i%2 == 0:\n",
    "        print(i,\"even\")\n",
    "    else:\n",
    "        print(i,\"odd\")\n",
    "        \n",
    "                                                # so, the thing is it will start with zero index.\n",
    "                                                # and it will print odd and even if there."
   ]
  },
  {
   "cell_type": "markdown",
   "id": "3c60bc06",
   "metadata": {},
   "source": [
    "# for loop with variable"
   ]
  },
  {
   "cell_type": "code",
   "execution_count": 50,
   "id": "56c513fd",
   "metadata": {},
   "outputs": [
    {
     "name": "stdout",
     "output_type": "stream",
     "text": [
      "[10, 55, 16, 54, 69, 13, 74, 19, 17, 83]\n"
     ]
    }
   ],
   "source": [
    "import random\n",
    "\n",
    "# so, it is taking random no. with range of 10.\n",
    "\n",
    "l = [random.randint(10,100) for i in range(10)]\n",
    "print(l)"
   ]
  },
  {
   "cell_type": "code",
   "execution_count": 51,
   "id": "9b5fd4da",
   "metadata": {
    "scrolled": true
   },
   "outputs": [
    {
     "name": "stdout",
     "output_type": "stream",
     "text": [
      "square of 10 is 100\n",
      "square of 16 is 256\n",
      "square of 54 is 2916\n",
      "square of 74 is 5476\n"
     ]
    }
   ],
   "source": [
    "# so, i want square of no..\n",
    "\n",
    "for i in l:\n",
    "    if i%2 == 0:\n",
    "        print(f\"square of {i} is {i*i}\")"
   ]
  },
  {
   "cell_type": "markdown",
   "id": "f0286c10",
   "metadata": {},
   "source": [
    "# while loop condition"
   ]
  },
  {
   "cell_type": "code",
   "execution_count": 52,
   "id": "01c67e63",
   "metadata": {},
   "outputs": [
    {
     "name": "stdout",
     "output_type": "stream",
     "text": [
      "0\n",
      "1\n",
      "2\n",
      "3\n",
      "4\n"
     ]
    }
   ],
   "source": [
    "# using of while loop and making a programme.\n",
    "\n",
    "n=0         # it will start with zero\n",
    "while n!= 5:    # it should run until it is not equal to five.\n",
    "    print(n)\n",
    "    n+=1        # next step, is increment inthe last and go for next no. which is 1,2,3 and so on."
   ]
  },
  {
   "cell_type": "code",
   "execution_count": 53,
   "id": "ef4c5bd3",
   "metadata": {},
   "outputs": [
    {
     "name": "stdout",
     "output_type": "stream",
     "text": [
      "2\n",
      "3\n",
      "4\n",
      "5\n",
      "6\n",
      "7\n",
      "8\n",
      "9\n"
     ]
    }
   ],
   "source": [
    "m = 2             # so, it is same as above.\n",
    "while m!=10:      # but here i am using \"m\" variable\n",
    "    print(m)\n",
    "    m+=1"
   ]
  },
  {
   "cell_type": "code",
   "execution_count": 54,
   "id": "8e28f610",
   "metadata": {},
   "outputs": [
    {
     "name": "stdout",
     "output_type": "stream",
     "text": [
      "10\n",
      "11\n",
      "12\n",
      "13\n",
      "14\n",
      "15\n",
      "16\n",
      "17\n",
      "18\n",
      "19\n"
     ]
    }
   ],
   "source": [
    "n = 10\n",
    "while n!=20:\n",
    "    print(n)\n",
    "    n+=1"
   ]
  },
  {
   "cell_type": "code",
   "execution_count": 55,
   "id": "0fbb809d",
   "metadata": {},
   "outputs": [
    {
     "name": "stdout",
     "output_type": "stream",
     "text": [
      "[10, 55, 16, 54, 69, 13, 74, 19, 17, 83]\n"
     ]
    }
   ],
   "source": [
    "print(l)"
   ]
  },
  {
   "cell_type": "markdown",
   "id": "c656b551",
   "metadata": {},
   "source": [
    "# if and elif questions"
   ]
  },
  {
   "cell_type": "code",
   "execution_count": 2,
   "id": "b0ec8e4e",
   "metadata": {},
   "outputs": [
    {
     "name": "stdout",
     "output_type": "stream",
     "text": [
      "enter any no. between 1 to 10:   4\n",
      "guess higher no.\n",
      "enter any no. between 1 to 10:   6\n",
      "guess higher no.\n",
      "enter any no. between 1 to 10:   9\n",
      "guesse less no.\n"
     ]
    }
   ],
   "source": [
    "# so, here i have made a programme of guessing no..\n",
    "\n",
    "import random    # importing random library\n",
    "\n",
    "\n",
    "secret_no = random.randint(1,10)   # making random no. \n",
    "\n",
    "\n",
    "for i in range(3):                                                # using for loop for 3 occurance\n",
    "    guess_no = int((input(\"enter any no. between 1 to 10:   \")))  # using conditions here.\n",
    "    if secret_no == guess_no:\n",
    "        print(\"yes you have great! brain.\")\n",
    "    elif secret_no > guess_no:\n",
    "        print(\"guess higher no.\")\n",
    "    else:\n",
    "        print(\"guesse less no.\")"
   ]
  },
  {
   "cell_type": "code",
   "execution_count": 2,
   "id": "5455d13a",
   "metadata": {},
   "outputs": [
    {
     "name": "stdout",
     "output_type": "stream",
     "text": [
      "0\n",
      "1\n",
      "2\n",
      "3\n",
      "4\n",
      "5\n"
     ]
    }
   ],
   "source": [
    "# so, here i am using for loop and checking how break works.\n",
    "\n",
    "for i in range(10):      # using for loop.\n",
    "    if i == 6:           # here making condition of if i==6 then i need a break after that.\n",
    "        break            # otherwise it will print (i).\n",
    "    else:\n",
    "        print(i)"
   ]
  },
  {
   "cell_type": "code",
   "execution_count": 5,
   "id": "1819ac9a",
   "metadata": {},
   "outputs": [
    {
     "name": "stdout",
     "output_type": "stream",
     "text": [
      "0\n",
      "1\n",
      "2\n",
      "3\n",
      "4\n",
      "6\n",
      "7\n",
      "8\n",
      "9\n"
     ]
    }
   ],
   "source": [
    "# so, here i am checking how continue works with for loop.\n",
    "\n",
    "for i in range(10):           # defining range 1 to 10.\n",
    "    if i == 5:                # if i==5 and it will get continue. but 5 should not here.\n",
    "        continue              # but it will continue till the end.\n",
    "    else:\n",
    "        print(i)              # otherwise it will print(i)."
   ]
  },
  {
   "cell_type": "code",
   "execution_count": 12,
   "id": "7425022d",
   "metadata": {},
   "outputs": [
    {
     "name": "stdout",
     "output_type": "stream",
     "text": [
      "1\n",
      "2\n",
      "3\n",
      "4\n"
     ]
    }
   ],
   "source": [
    "for i in range(5):    # using loop with condition \n",
    "    if i%6 == 0:      # if i is divisible by 6 and get output like 0. then it will print output\n",
    "        continue      # otherwise it will not print.\n",
    "    else:\n",
    "        print(i)"
   ]
  },
  {
   "cell_type": "code",
   "execution_count": null,
   "id": "13357d3d",
   "metadata": {},
   "outputs": [],
   "source": []
  }
 ],
 "metadata": {
  "kernelspec": {
   "display_name": "Python 3",
   "language": "python",
   "name": "python3"
  },
  "language_info": {
   "codemirror_mode": {
    "name": "ipython",
    "version": 3
   },
   "file_extension": ".py",
   "mimetype": "text/x-python",
   "name": "python",
   "nbconvert_exporter": "python",
   "pygments_lexer": "ipython3",
   "version": "3.8.8"
  }
 },
 "nbformat": 4,
 "nbformat_minor": 5
}
