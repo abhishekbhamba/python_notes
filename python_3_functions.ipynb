{
 "cells": [
  {
   "cell_type": "code",
   "execution_count": 1,
   "id": "132675cc",
   "metadata": {},
   "outputs": [],
   "source": [
    "import numpy as np\n"
   ]
  },
  {
   "cell_type": "markdown",
   "id": "f7ba9341",
   "metadata": {},
   "source": [
    "# functions"
   ]
  },
  {
   "cell_type": "code",
   "execution_count": 7,
   "id": "e0827132",
   "metadata": {},
   "outputs": [],
   "source": [
    "# variable name.\n",
    "\n",
    "name = [\"abhi\",\"rampal\",\"yogesh\",\"kiran\"]\n",
    "age = [22,33,44,55]\n",
    "country = [\"india\",\"pakistan\",\"bngladesh\",\"usa\"]"
   ]
  },
  {
   "cell_type": "code",
   "execution_count": 8,
   "id": "b3ebd2e6",
   "metadata": {},
   "outputs": [],
   "source": [
    "# defining a function.\n",
    "\n",
    "def student(age, country):    # def basically defining\n",
    "    for i in age:             # using for loop because i want a loop in age and country.\n",
    "        if i>25:              # then applied if condition because if is something present like that\n",
    "            print(i)          # then it will give output.\n",
    "    for i in country:\n",
    "        if i == \"pakistan\":\n",
    "            print(i)\n",
    "    "
   ]
  },
  {
   "cell_type": "code",
   "execution_count": 10,
   "id": "bceb1db5",
   "metadata": {},
   "outputs": [
    {
     "name": "stdout",
     "output_type": "stream",
     "text": [
      "33\n",
      "44\n",
      "55\n",
      "pakistan\n"
     ]
    }
   ],
   "source": [
    "student(age, country)"
   ]
  },
  {
   "cell_type": "markdown",
   "id": "2167813e",
   "metadata": {},
   "source": [
    "#### Q1"
   ]
  },
  {
   "cell_type": "code",
   "execution_count": 20,
   "id": "62365e6b",
   "metadata": {},
   "outputs": [],
   "source": [
    "def job(name,age):\n",
    "    for i in name:\n",
    "        if name == \"abhi\":\n",
    "            print(i)\n",
    "    for i in age:\n",
    "        if i>44:\n",
    "            print(i)"
   ]
  },
  {
   "cell_type": "code",
   "execution_count": 21,
   "id": "1f465689",
   "metadata": {},
   "outputs": [
    {
     "ename": "TypeError",
     "evalue": "'function' object is not iterable",
     "output_type": "error",
     "traceback": [
      "\u001b[1;31m---------------------------------------------------------------------------\u001b[0m",
      "\u001b[1;31mTypeError\u001b[0m                                 Traceback (most recent call last)",
      "\u001b[1;32m<ipython-input-21-f1a689cfbb63>\u001b[0m in \u001b[0;36m<module>\u001b[1;34m\u001b[0m\n\u001b[1;32m----> 1\u001b[1;33m \u001b[0mjob\u001b[0m\u001b[1;33m(\u001b[0m\u001b[0mname\u001b[0m\u001b[1;33m,\u001b[0m \u001b[0mage\u001b[0m\u001b[1;33m)\u001b[0m\u001b[1;33m\u001b[0m\u001b[1;33m\u001b[0m\u001b[0m\n\u001b[0m",
      "\u001b[1;32m<ipython-input-20-6d7ffd3977c3>\u001b[0m in \u001b[0;36mjob\u001b[1;34m(name, age)\u001b[0m\n\u001b[0;32m      1\u001b[0m \u001b[1;32mdef\u001b[0m \u001b[0mjob\u001b[0m\u001b[1;33m(\u001b[0m\u001b[0mname\u001b[0m\u001b[1;33m,\u001b[0m\u001b[0mage\u001b[0m\u001b[1;33m)\u001b[0m\u001b[1;33m:\u001b[0m\u001b[1;33m\u001b[0m\u001b[1;33m\u001b[0m\u001b[0m\n\u001b[1;32m----> 2\u001b[1;33m     \u001b[1;32mfor\u001b[0m \u001b[0mi\u001b[0m \u001b[1;32min\u001b[0m \u001b[0mname\u001b[0m\u001b[1;33m:\u001b[0m\u001b[1;33m\u001b[0m\u001b[1;33m\u001b[0m\u001b[0m\n\u001b[0m\u001b[0;32m      3\u001b[0m         \u001b[1;32mif\u001b[0m \u001b[0mname\u001b[0m \u001b[1;33m==\u001b[0m \u001b[1;34m\"abhi\"\u001b[0m\u001b[1;33m:\u001b[0m\u001b[1;33m\u001b[0m\u001b[1;33m\u001b[0m\u001b[0m\n\u001b[0;32m      4\u001b[0m             \u001b[0mprint\u001b[0m\u001b[1;33m(\u001b[0m\u001b[0mi\u001b[0m\u001b[1;33m)\u001b[0m\u001b[1;33m\u001b[0m\u001b[1;33m\u001b[0m\u001b[0m\n\u001b[0;32m      5\u001b[0m     \u001b[1;32mfor\u001b[0m \u001b[0mi\u001b[0m \u001b[1;32min\u001b[0m \u001b[0mage\u001b[0m\u001b[1;33m:\u001b[0m\u001b[1;33m\u001b[0m\u001b[1;33m\u001b[0m\u001b[0m\n",
      "\u001b[1;31mTypeError\u001b[0m: 'function' object is not iterable"
     ]
    }
   ],
   "source": [
    "job(name, age)"
   ]
  },
  {
   "cell_type": "code",
   "execution_count": 22,
   "id": "e9e93c05",
   "metadata": {},
   "outputs": [],
   "source": [
    "def add(x,y):          # defining a function of add.\n",
    "    return x+y"
   ]
  },
  {
   "cell_type": "code",
   "execution_count": 24,
   "id": "49c32b92",
   "metadata": {},
   "outputs": [
    {
     "data": {
      "text/plain": [
       "4"
      ]
     },
     "execution_count": 24,
     "metadata": {},
     "output_type": "execute_result"
    }
   ],
   "source": [
    "add(2,2)    # add"
   ]
  },
  {
   "cell_type": "code",
   "execution_count": 25,
   "id": "3f899177",
   "metadata": {},
   "outputs": [],
   "source": [
    "def subtract(x,y,z):     # definig a function of subtract.\n",
    "    return x-y-z"
   ]
  },
  {
   "cell_type": "code",
   "execution_count": 26,
   "id": "b132d019",
   "metadata": {},
   "outputs": [
    {
     "data": {
      "text/plain": [
       "-5"
      ]
     },
     "execution_count": 26,
     "metadata": {},
     "output_type": "execute_result"
    }
   ],
   "source": [
    "subtract(2,3,4)     # subtract"
   ]
  },
  {
   "cell_type": "code",
   "execution_count": 27,
   "id": "7e3eebd5",
   "metadata": {},
   "outputs": [],
   "source": [
    "def multiplication(x,y,z):     # doing multipication, and function name is multiplication.\n",
    "    return x*y*z"
   ]
  },
  {
   "cell_type": "code",
   "execution_count": 28,
   "id": "d740ae15",
   "metadata": {},
   "outputs": [
    {
     "data": {
      "text/plain": [
       "8"
      ]
     },
     "execution_count": 28,
     "metadata": {},
     "output_type": "execute_result"
    }
   ],
   "source": [
    "multiplication(2,2,2)       # multiplication"
   ]
  },
  {
   "cell_type": "code",
   "execution_count": 33,
   "id": "c3ba1391",
   "metadata": {},
   "outputs": [],
   "source": [
    "def divide(x,y):        # dividing but it is % modulse. it only give remainder.\n",
    "    return x%y"
   ]
  },
  {
   "cell_type": "code",
   "execution_count": 34,
   "id": "9133515c",
   "metadata": {},
   "outputs": [
    {
     "data": {
      "text/plain": [
       "0"
      ]
     },
     "execution_count": 34,
     "metadata": {},
     "output_type": "execute_result"
    }
   ],
   "source": [
    "divide(2,2)"
   ]
  },
  {
   "cell_type": "code",
   "execution_count": 35,
   "id": "23067983",
   "metadata": {},
   "outputs": [],
   "source": [
    "def divide(x,y):      # dividing witth / divide symbol.\n",
    "    return x/y"
   ]
  },
  {
   "cell_type": "code",
   "execution_count": 37,
   "id": "5765bfec",
   "metadata": {},
   "outputs": [
    {
     "data": {
      "text/plain": [
       "1.0"
      ]
     },
     "execution_count": 37,
     "metadata": {},
     "output_type": "execute_result"
    }
   ],
   "source": [
    "divide(2,2)         # so, it is giving the expacted divide resultt."
   ]
  },
  {
   "cell_type": "markdown",
   "id": "255b47b6",
   "metadata": {},
   "source": [
    "# functions with arguments"
   ]
  },
  {
   "cell_type": "code",
   "execution_count": 41,
   "id": "f12ba25d",
   "metadata": {},
   "outputs": [],
   "source": [
    "# making the function with nice argument.\n",
    "\n",
    "def greeting(name):\n",
    "    return f\"welcome to the data science job {name}\"\n",
    "def salary(sal):\n",
    "    return f\"you can choice your better sallary {sal}\""
   ]
  },
  {
   "cell_type": "code",
   "execution_count": 54,
   "id": "9129d306",
   "metadata": {},
   "outputs": [
    {
     "data": {
      "text/plain": [
       "'welcome to the data science job abhishek'"
      ]
     },
     "execution_count": 54,
     "metadata": {},
     "output_type": "execute_result"
    }
   ],
   "source": [
    "greeting(\"abhishek\")             # calling function name with. with entering the expected name."
   ]
  },
  {
   "cell_type": "code",
   "execution_count": 55,
   "id": "07f2a10a",
   "metadata": {},
   "outputs": [
    {
     "data": {
      "text/plain": [
       "'you can choice your better sallary 1 lakh'"
      ]
     },
     "execution_count": 55,
     "metadata": {},
     "output_type": "execute_result"
    }
   ],
   "source": [
    "salary(\"1 lakh\")"
   ]
  },
  {
   "cell_type": "code",
   "execution_count": 58,
   "id": "63253b4c",
   "metadata": {},
   "outputs": [
    {
     "ename": "TypeError",
     "evalue": "'function' object is not iterable",
     "output_type": "error",
     "traceback": [
      "\u001b[1;31m---------------------------------------------------------------------------\u001b[0m",
      "\u001b[1;31mTypeError\u001b[0m                                 Traceback (most recent call last)",
      "\u001b[1;32m<ipython-input-58-ebf664606050>\u001b[0m in \u001b[0;36m<module>\u001b[1;34m\u001b[0m\n\u001b[1;32m----> 1\u001b[1;33m \u001b[1;32mfor\u001b[0m \u001b[0mi\u001b[0m \u001b[1;32min\u001b[0m \u001b[0mname\u001b[0m\u001b[1;33m:\u001b[0m\u001b[1;33m\u001b[0m\u001b[1;33m\u001b[0m\u001b[0m\n\u001b[0m\u001b[0;32m      2\u001b[0m     \u001b[0mprint\u001b[0m\u001b[1;33m(\u001b[0m\u001b[0mgreeting\u001b[0m\u001b[1;33m(\u001b[0m\u001b[0mi\u001b[0m\u001b[1;33m)\u001b[0m\u001b[1;33m)\u001b[0m\u001b[1;33m\u001b[0m\u001b[1;33m\u001b[0m\u001b[0m\n",
      "\u001b[1;31mTypeError\u001b[0m: 'function' object is not iterable"
     ]
    }
   ],
   "source": [
    "# applying loop it is correct but working \n",
    "for i in name:\n",
    "    print(greeting(i))"
   ]
  },
  {
   "cell_type": "code",
   "execution_count": 65,
   "id": "aa821521",
   "metadata": {},
   "outputs": [],
   "source": [
    "# now i am making calculator\n",
    "\n",
    "def calculator():\n",
    "    ops = int(input(\"addition = 1 | subtract = 2 | divide = 3 | multiplication = 4\"))\n",
    "    x = eval(input(\"X:\"  ))\n",
    "    y = eval(input(\"Y:\"  ))\n",
    "    \n",
    "    if ops == 1:\n",
    "        return f\"adding {x} and {y} is {x+y}\"\n",
    "    elif ops == 2:\n",
    "        return f\"subract {x} and {y} is {x-y}\"\n",
    "    elif ops == 3:\n",
    "        return f\"divide {x} and {y} is {x/y}\"\n",
    "    else:\n",
    "        return f\"multiplication {x} and {y} is {x*y}\"\n",
    "    \n"
   ]
  },
  {
   "cell_type": "code",
   "execution_count": 67,
   "id": "627342ce",
   "metadata": {},
   "outputs": [
    {
     "name": "stdout",
     "output_type": "stream",
     "text": [
      "addition = 1 | subtract = 2 | divide = 3 | multiplication = 42\n",
      "X:3\n",
      "Y:4\n"
     ]
    },
    {
     "data": {
      "text/plain": [
       "'subract 3 and 4 is -1'"
      ]
     },
     "execution_count": 67,
     "metadata": {},
     "output_type": "execute_result"
    }
   ],
   "source": [
    "calculator()"
   ]
  },
  {
   "cell_type": "code",
   "execution_count": 69,
   "id": "60f3943e",
   "metadata": {},
   "outputs": [
    {
     "name": "stdout",
     "output_type": "stream",
     "text": [
      "python programming -- java\n"
     ]
    }
   ],
   "source": [
    "# shift +tab\n",
    "print(\"python programming\", end = \" -- \")     # end is basically ending \"how i wanna end\"\n",
    "print(\"java\")"
   ]
  },
  {
   "cell_type": "code",
   "execution_count": 71,
   "id": "c0e2a041",
   "metadata": {},
   "outputs": [
    {
     "name": "stdout",
     "output_type": "stream",
     "text": [
      "name --> abhishek\n"
     ]
    }
   ],
   "source": [
    "print(\"name\", end=\" --> \")\n",
    "print(\"abhishek\")"
   ]
  },
  {
   "cell_type": "code",
   "execution_count": 73,
   "id": "e24e2f62",
   "metadata": {},
   "outputs": [
    {
     "data": {
      "text/plain": [
       "3.141592653589793"
      ]
     },
     "execution_count": 73,
     "metadata": {},
     "output_type": "execute_result"
    }
   ],
   "source": [
    "import math     # importing mmaths library\n",
    "math.pi        # pi "
   ]
  },
  {
   "cell_type": "markdown",
   "id": "c8bc71fe",
   "metadata": {},
   "source": [
    "# functions with multiplication argument"
   ]
  },
  {
   "cell_type": "code",
   "execution_count": 74,
   "id": "9304d8cf",
   "metadata": {},
   "outputs": [],
   "source": [
    "import random\n",
    "import string"
   ]
  },
  {
   "cell_type": "code",
   "execution_count": 75,
   "id": "06b907d7",
   "metadata": {},
   "outputs": [],
   "source": [
    "def greeting(*name):\n",
    "    for i in name:\n",
    "        print(\"welcome to the dinsney land\",(i))"
   ]
  },
  {
   "cell_type": "code",
   "execution_count": 79,
   "id": "8c28bb4f",
   "metadata": {},
   "outputs": [
    {
     "data": {
      "text/plain": [
       "['A', 'B', 'C', 'D', 'E', 'F', 'G', 'H', 'I', 'J']"
      ]
     },
     "execution_count": 79,
     "metadata": {},
     "output_type": "execute_result"
    }
   ],
   "source": [
    "name = [string.ascii_uppercase[i] for i in range(10)]\n",
    "name"
   ]
  },
  {
   "cell_type": "markdown",
   "id": "732f7459",
   "metadata": {},
   "source": [
    "#### Q1"
   ]
  },
  {
   "cell_type": "code",
   "execution_count": 80,
   "id": "29ee07aa",
   "metadata": {},
   "outputs": [],
   "source": [
    "import random\n",
    "import string"
   ]
  },
  {
   "cell_type": "code",
   "execution_count": 83,
   "id": "c0c12020",
   "metadata": {},
   "outputs": [],
   "source": [
    "def greeting(*name):\n",
    "    for i in name:\n",
    "        print(\"welcom abhishek your new house is ready\",(i))"
   ]
  },
  {
   "cell_type": "code",
   "execution_count": 85,
   "id": "e3aa6657",
   "metadata": {},
   "outputs": [
    {
     "data": {
      "text/plain": [
       "['A', 'B', 'C', 'D', 'E', 'F', 'G', 'H', 'I', 'J', 'K', 'L', 'M', 'N', 'O']"
      ]
     },
     "execution_count": 85,
     "metadata": {},
     "output_type": "execute_result"
    }
   ],
   "source": [
    "way = [string.ascii_uppercase[i] for i in range(15)]\n",
    "way"
   ]
  },
  {
   "cell_type": "code",
   "execution_count": 86,
   "id": "25b6f2dd",
   "metadata": {},
   "outputs": [
    {
     "name": "stdout",
     "output_type": "stream",
     "text": [
      "welcom abhishek your new house is ready A\n",
      "welcom abhishek your new house is ready S\n",
      "welcom abhishek your new house is ready B\n",
      "welcom abhishek your new house is ready R\n"
     ]
    }
   ],
   "source": [
    "greeting('A','S','B','R')"
   ]
  },
  {
   "cell_type": "code",
   "execution_count": null,
   "id": "f27c6865",
   "metadata": {},
   "outputs": [],
   "source": []
  }
 ],
 "metadata": {
  "kernelspec": {
   "display_name": "Python 3",
   "language": "python",
   "name": "python3"
  },
  "language_info": {
   "codemirror_mode": {
    "name": "ipython",
    "version": 3
   },
   "file_extension": ".py",
   "mimetype": "text/x-python",
   "name": "python",
   "nbconvert_exporter": "python",
   "pygments_lexer": "ipython3",
   "version": "3.8.8"
  }
 },
 "nbformat": 4,
 "nbformat_minor": 5
}
